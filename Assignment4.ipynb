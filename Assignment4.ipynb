{
 "cells": [
  {
   "cell_type": "code",
   "execution_count": 1,
   "id": "91e2c5c9",
   "metadata": {},
   "outputs": [
    {
     "name": "stdout",
     "output_type": "stream",
     "text": [
      "Requirement already satisfied: selenium in c:\\users\\deepak\\anaconda3\\lib\\site-packages (4.4.0)\n",
      "Requirement already satisfied: trio~=0.17 in c:\\users\\deepak\\anaconda3\\lib\\site-packages (from selenium) (0.21.0)\n",
      "Requirement already satisfied: trio-websocket~=0.9 in c:\\users\\deepak\\anaconda3\\lib\\site-packages (from selenium) (0.9.2)\n",
      "Requirement already satisfied: urllib3[secure,socks]~=1.26 in c:\\users\\deepak\\anaconda3\\lib\\site-packages (from selenium) (1.26.7)\n",
      "Requirement already satisfied: attrs>=19.2.0 in c:\\users\\deepak\\anaconda3\\lib\\site-packages (from trio~=0.17->selenium) (21.2.0)\n",
      "Requirement already satisfied: outcome in c:\\users\\deepak\\anaconda3\\lib\\site-packages (from trio~=0.17->selenium) (1.2.0)\n",
      "Requirement already satisfied: idna in c:\\users\\deepak\\anaconda3\\lib\\site-packages (from trio~=0.17->selenium) (3.2)\n",
      "Requirement already satisfied: async-generator>=1.9 in c:\\users\\deepak\\anaconda3\\lib\\site-packages (from trio~=0.17->selenium) (1.10)\n",
      "Requirement already satisfied: sniffio in c:\\users\\deepak\\anaconda3\\lib\\site-packages (from trio~=0.17->selenium) (1.2.0)\n",
      "Requirement already satisfied: cffi>=1.14 in c:\\users\\deepak\\anaconda3\\lib\\site-packages (from trio~=0.17->selenium) (1.14.6)\n",
      "Requirement already satisfied: sortedcontainers in c:\\users\\deepak\\anaconda3\\lib\\site-packages (from trio~=0.17->selenium) (2.4.0)\n",
      "Requirement already satisfied: pycparser in c:\\users\\deepak\\anaconda3\\lib\\site-packages (from cffi>=1.14->trio~=0.17->selenium) (2.20)\n",
      "Requirement already satisfied: wsproto>=0.14 in c:\\users\\deepak\\anaconda3\\lib\\site-packages (from trio-websocket~=0.9->selenium) (1.1.0)\n",
      "Requirement already satisfied: pyOpenSSL>=0.14 in c:\\users\\deepak\\anaconda3\\lib\\site-packages (from urllib3[secure,socks]~=1.26->selenium) (21.0.0)\n",
      "Requirement already satisfied: cryptography>=1.3.4 in c:\\users\\deepak\\anaconda3\\lib\\site-packages (from urllib3[secure,socks]~=1.26->selenium) (3.4.8)\n",
      "Requirement already satisfied: certifi in c:\\users\\deepak\\anaconda3\\lib\\site-packages (from urllib3[secure,socks]~=1.26->selenium) (2021.10.8)\n",
      "Requirement already satisfied: PySocks!=1.5.7,<2.0,>=1.5.6 in c:\\users\\deepak\\anaconda3\\lib\\site-packages (from urllib3[secure,socks]~=1.26->selenium) (1.7.1)\n",
      "Requirement already satisfied: six>=1.5.2 in c:\\users\\deepak\\anaconda3\\lib\\site-packages (from pyOpenSSL>=0.14->urllib3[secure,socks]~=1.26->selenium) (1.16.0)\n",
      "Requirement already satisfied: h11<1,>=0.9.0 in c:\\users\\deepak\\anaconda3\\lib\\site-packages (from wsproto>=0.14->trio-websocket~=0.9->selenium) (0.13.0)\n"
     ]
    }
   ],
   "source": [
    "!pip install selenium"
   ]
  },
  {
   "cell_type": "code",
   "execution_count": 3,
   "id": "08e63528",
   "metadata": {},
   "outputs": [],
   "source": [
    "import selenium\n",
    "import pandas as pd\n",
    "from selenium import webdriver\n",
    "import warnings\n",
    "warnings.filterwarnings('ignore')\n",
    "import time\n",
    "from selenium.webdriver.common.by import By"
   ]
  },
  {
   "cell_type": "code",
   "execution_count": 5,
   "id": "1141dc74",
   "metadata": {},
   "outputs": [],
   "source": [
    "driver=webdriver.Chrome(r\"chromedriver.exe\")"
   ]
  },
  {
   "cell_type": "code",
   "execution_count": 85,
   "id": "e2c28483",
   "metadata": {},
   "outputs": [],
   "source": [
    "driver.get(\"https://www.bcci.tv/\")"
   ]
  },
  {
   "cell_type": "code",
   "execution_count": 86,
   "id": "8c87ad62",
   "metadata": {},
   "outputs": [],
   "source": [
    "driver.get(\"https://www.bcci.tv/international/fixtures\")"
   ]
  },
  {
   "cell_type": "code",
   "execution_count": 87,
   "id": "6cb5c16b",
   "metadata": {},
   "outputs": [],
   "source": [
    "matchtitle=[]\n",
    "matchSeries=[]\n",
    "matchPlace=[]\n",
    "matchDate=[]\n",
    "matchTime=[]"
   ]
  },
  {
   "cell_type": "code",
   "execution_count": 88,
   "id": "622f071b",
   "metadata": {},
   "outputs": [],
   "source": [
    "title_tags=driver.find_elements(By.XPATH,'//span[@class=\"matchOrderText ng-binding ng-scope\"]')\n",
    "for i in title_tags:\n",
    "    title=i.text\n",
    "    matchtitle.append(title)"
   ]
  },
  {
   "cell_type": "code",
   "execution_count": 89,
   "id": "73dfc7f5",
   "metadata": {},
   "outputs": [],
   "source": [
    "series_tags=driver.find_elements(By.XPATH,'//span[@class=\"ng-binding\"]')\n",
    "for i in series_tags:\n",
    "    series=i.text\n",
    "    matchSeries.append(series)"
   ]
  },
  {
   "cell_type": "code",
   "execution_count": 92,
   "id": "bfdb773a",
   "metadata": {},
   "outputs": [],
   "source": [
    "place_tags=driver.find_elements(By.XPATH,'//span[@class=\"ng-binding ng-scope\"]')\n",
    "for i in place_tags:\n",
    "    place=i.text\n",
    "    matchPlace.append(place)"
   ]
  },
  {
   "cell_type": "code",
   "execution_count": 93,
   "id": "5fc928eb",
   "metadata": {},
   "outputs": [],
   "source": [
    "date_tags=driver.find_elements(By.XPATH,'//div[@class=\"match-card-left match-schedule\"]')\n",
    "for i in date_tags:\n",
    "    date=i.text\n",
    "    matchDate.append(date)"
   ]
  },
  {
   "cell_type": "code",
   "execution_count": 94,
   "id": "86c9ed6c",
   "metadata": {},
   "outputs": [],
   "source": [
    "time_tags=driver.find_elements(By.XPATH,'//h5[@class=\"text-right ng-binding\"]')\n",
    "for i in time_tags:\n",
    "    time=i.text\n",
    "    matchTime.append(time)"
   ]
  },
  {
   "cell_type": "code",
   "execution_count": 95,
   "id": "24ad6d51",
   "metadata": {},
   "outputs": [
    {
     "name": "stdout",
     "output_type": "stream",
     "text": [
      "8 8 16 8 16\n"
     ]
    }
   ],
   "source": [
    "print(len(matchtitle),len(matchSeries),len(matchPlace),len(matchDate),len(matchTime))"
   ]
  },
  {
   "cell_type": "code",
   "execution_count": 96,
   "id": "0fbac353",
   "metadata": {},
   "outputs": [
    {
     "ename": "ValueError",
     "evalue": "All arrays must be of the same length",
     "output_type": "error",
     "traceback": [
      "\u001b[1;31m---------------------------------------------------------------------------\u001b[0m",
      "\u001b[1;31mValueError\u001b[0m                                Traceback (most recent call last)",
      "\u001b[1;32m~\\AppData\\Local\\Temp/ipykernel_23904/1428196841.py\u001b[0m in \u001b[0;36m<module>\u001b[1;34m\u001b[0m\n\u001b[1;32m----> 1\u001b[1;33m \u001b[0mdf\u001b[0m\u001b[1;33m=\u001b[0m\u001b[0mpd\u001b[0m\u001b[1;33m.\u001b[0m\u001b[0mDataFrame\u001b[0m\u001b[1;33m(\u001b[0m\u001b[1;33m{\u001b[0m\u001b[1;34m'Title'\u001b[0m\u001b[1;33m:\u001b[0m\u001b[0mmatchtitle\u001b[0m\u001b[1;33m,\u001b[0m\u001b[1;34m'Series'\u001b[0m\u001b[1;33m:\u001b[0m\u001b[0mmatchSeries\u001b[0m\u001b[1;33m,\u001b[0m\u001b[1;34m'Place'\u001b[0m\u001b[1;33m:\u001b[0m\u001b[0mmatchPlace\u001b[0m\u001b[1;33m,\u001b[0m\u001b[1;34m'Date'\u001b[0m\u001b[1;33m:\u001b[0m\u001b[0mmatchDate\u001b[0m\u001b[1;33m,\u001b[0m\u001b[1;34m'Time'\u001b[0m\u001b[1;33m:\u001b[0m\u001b[0mmatchTime\u001b[0m\u001b[1;33m}\u001b[0m\u001b[1;33m)\u001b[0m\u001b[1;33m\u001b[0m\u001b[1;33m\u001b[0m\u001b[0m\n\u001b[0m\u001b[0;32m      2\u001b[0m \u001b[0mdf\u001b[0m\u001b[1;33m\u001b[0m\u001b[1;33m\u001b[0m\u001b[0m\n",
      "\u001b[1;32m~\\anaconda3\\lib\\site-packages\\pandas\\core\\frame.py\u001b[0m in \u001b[0;36m__init__\u001b[1;34m(self, data, index, columns, dtype, copy)\u001b[0m\n\u001b[0;32m    612\u001b[0m         \u001b[1;32melif\u001b[0m \u001b[0misinstance\u001b[0m\u001b[1;33m(\u001b[0m\u001b[0mdata\u001b[0m\u001b[1;33m,\u001b[0m \u001b[0mdict\u001b[0m\u001b[1;33m)\u001b[0m\u001b[1;33m:\u001b[0m\u001b[1;33m\u001b[0m\u001b[1;33m\u001b[0m\u001b[0m\n\u001b[0;32m    613\u001b[0m             \u001b[1;31m# GH#38939 de facto copy defaults to False only in non-dict cases\u001b[0m\u001b[1;33m\u001b[0m\u001b[1;33m\u001b[0m\u001b[0m\n\u001b[1;32m--> 614\u001b[1;33m             \u001b[0mmgr\u001b[0m \u001b[1;33m=\u001b[0m \u001b[0mdict_to_mgr\u001b[0m\u001b[1;33m(\u001b[0m\u001b[0mdata\u001b[0m\u001b[1;33m,\u001b[0m \u001b[0mindex\u001b[0m\u001b[1;33m,\u001b[0m \u001b[0mcolumns\u001b[0m\u001b[1;33m,\u001b[0m \u001b[0mdtype\u001b[0m\u001b[1;33m=\u001b[0m\u001b[0mdtype\u001b[0m\u001b[1;33m,\u001b[0m \u001b[0mcopy\u001b[0m\u001b[1;33m=\u001b[0m\u001b[0mcopy\u001b[0m\u001b[1;33m,\u001b[0m \u001b[0mtyp\u001b[0m\u001b[1;33m=\u001b[0m\u001b[0mmanager\u001b[0m\u001b[1;33m)\u001b[0m\u001b[1;33m\u001b[0m\u001b[1;33m\u001b[0m\u001b[0m\n\u001b[0m\u001b[0;32m    615\u001b[0m         \u001b[1;32melif\u001b[0m \u001b[0misinstance\u001b[0m\u001b[1;33m(\u001b[0m\u001b[0mdata\u001b[0m\u001b[1;33m,\u001b[0m \u001b[0mma\u001b[0m\u001b[1;33m.\u001b[0m\u001b[0mMaskedArray\u001b[0m\u001b[1;33m)\u001b[0m\u001b[1;33m:\u001b[0m\u001b[1;33m\u001b[0m\u001b[1;33m\u001b[0m\u001b[0m\n\u001b[0;32m    616\u001b[0m             \u001b[1;32mimport\u001b[0m \u001b[0mnumpy\u001b[0m\u001b[1;33m.\u001b[0m\u001b[0mma\u001b[0m\u001b[1;33m.\u001b[0m\u001b[0mmrecords\u001b[0m \u001b[1;32mas\u001b[0m \u001b[0mmrecords\u001b[0m\u001b[1;33m\u001b[0m\u001b[1;33m\u001b[0m\u001b[0m\n",
      "\u001b[1;32m~\\anaconda3\\lib\\site-packages\\pandas\\core\\internals\\construction.py\u001b[0m in \u001b[0;36mdict_to_mgr\u001b[1;34m(data, index, columns, dtype, typ, copy)\u001b[0m\n\u001b[0;32m    462\u001b[0m         \u001b[1;31m# TODO: can we get rid of the dt64tz special case above?\u001b[0m\u001b[1;33m\u001b[0m\u001b[1;33m\u001b[0m\u001b[0m\n\u001b[0;32m    463\u001b[0m \u001b[1;33m\u001b[0m\u001b[0m\n\u001b[1;32m--> 464\u001b[1;33m     return arrays_to_mgr(\n\u001b[0m\u001b[0;32m    465\u001b[0m         \u001b[0marrays\u001b[0m\u001b[1;33m,\u001b[0m \u001b[0mdata_names\u001b[0m\u001b[1;33m,\u001b[0m \u001b[0mindex\u001b[0m\u001b[1;33m,\u001b[0m \u001b[0mcolumns\u001b[0m\u001b[1;33m,\u001b[0m \u001b[0mdtype\u001b[0m\u001b[1;33m=\u001b[0m\u001b[0mdtype\u001b[0m\u001b[1;33m,\u001b[0m \u001b[0mtyp\u001b[0m\u001b[1;33m=\u001b[0m\u001b[0mtyp\u001b[0m\u001b[1;33m,\u001b[0m \u001b[0mconsolidate\u001b[0m\u001b[1;33m=\u001b[0m\u001b[0mcopy\u001b[0m\u001b[1;33m\u001b[0m\u001b[1;33m\u001b[0m\u001b[0m\n\u001b[0;32m    466\u001b[0m     )\n",
      "\u001b[1;32m~\\anaconda3\\lib\\site-packages\\pandas\\core\\internals\\construction.py\u001b[0m in \u001b[0;36marrays_to_mgr\u001b[1;34m(arrays, arr_names, index, columns, dtype, verify_integrity, typ, consolidate)\u001b[0m\n\u001b[0;32m    117\u001b[0m         \u001b[1;31m# figure out the index, if necessary\u001b[0m\u001b[1;33m\u001b[0m\u001b[1;33m\u001b[0m\u001b[0m\n\u001b[0;32m    118\u001b[0m         \u001b[1;32mif\u001b[0m \u001b[0mindex\u001b[0m \u001b[1;32mis\u001b[0m \u001b[1;32mNone\u001b[0m\u001b[1;33m:\u001b[0m\u001b[1;33m\u001b[0m\u001b[1;33m\u001b[0m\u001b[0m\n\u001b[1;32m--> 119\u001b[1;33m             \u001b[0mindex\u001b[0m \u001b[1;33m=\u001b[0m \u001b[0m_extract_index\u001b[0m\u001b[1;33m(\u001b[0m\u001b[0marrays\u001b[0m\u001b[1;33m)\u001b[0m\u001b[1;33m\u001b[0m\u001b[1;33m\u001b[0m\u001b[0m\n\u001b[0m\u001b[0;32m    120\u001b[0m         \u001b[1;32melse\u001b[0m\u001b[1;33m:\u001b[0m\u001b[1;33m\u001b[0m\u001b[1;33m\u001b[0m\u001b[0m\n\u001b[0;32m    121\u001b[0m             \u001b[0mindex\u001b[0m \u001b[1;33m=\u001b[0m \u001b[0mensure_index\u001b[0m\u001b[1;33m(\u001b[0m\u001b[0mindex\u001b[0m\u001b[1;33m)\u001b[0m\u001b[1;33m\u001b[0m\u001b[1;33m\u001b[0m\u001b[0m\n",
      "\u001b[1;32m~\\anaconda3\\lib\\site-packages\\pandas\\core\\internals\\construction.py\u001b[0m in \u001b[0;36m_extract_index\u001b[1;34m(data)\u001b[0m\n\u001b[0;32m    633\u001b[0m             \u001b[0mlengths\u001b[0m \u001b[1;33m=\u001b[0m \u001b[0mlist\u001b[0m\u001b[1;33m(\u001b[0m\u001b[0mset\u001b[0m\u001b[1;33m(\u001b[0m\u001b[0mraw_lengths\u001b[0m\u001b[1;33m)\u001b[0m\u001b[1;33m)\u001b[0m\u001b[1;33m\u001b[0m\u001b[1;33m\u001b[0m\u001b[0m\n\u001b[0;32m    634\u001b[0m             \u001b[1;32mif\u001b[0m \u001b[0mlen\u001b[0m\u001b[1;33m(\u001b[0m\u001b[0mlengths\u001b[0m\u001b[1;33m)\u001b[0m \u001b[1;33m>\u001b[0m \u001b[1;36m1\u001b[0m\u001b[1;33m:\u001b[0m\u001b[1;33m\u001b[0m\u001b[1;33m\u001b[0m\u001b[0m\n\u001b[1;32m--> 635\u001b[1;33m                 \u001b[1;32mraise\u001b[0m \u001b[0mValueError\u001b[0m\u001b[1;33m(\u001b[0m\u001b[1;34m\"All arrays must be of the same length\"\u001b[0m\u001b[1;33m)\u001b[0m\u001b[1;33m\u001b[0m\u001b[1;33m\u001b[0m\u001b[0m\n\u001b[0m\u001b[0;32m    636\u001b[0m \u001b[1;33m\u001b[0m\u001b[0m\n\u001b[0;32m    637\u001b[0m             \u001b[1;32mif\u001b[0m \u001b[0mhave_dicts\u001b[0m\u001b[1;33m:\u001b[0m\u001b[1;33m\u001b[0m\u001b[1;33m\u001b[0m\u001b[0m\n",
      "\u001b[1;31mValueError\u001b[0m: All arrays must be of the same length"
     ]
    }
   ],
   "source": [
    "df=pd.DataFrame({'Title':matchtitle,'Series':matchSeries,'Place':matchPlace,'Date':matchDate,'Time':matchTime})\n",
    "df"
   ]
  },
  {
   "cell_type": "code",
   "execution_count": 22,
   "id": "fe12b8fd",
   "metadata": {},
   "outputs": [],
   "source": [
    "import selenium\n",
    "import pandas as pd\n",
    "from selenium import webdriver\n",
    "import warnings\n",
    "warnings.filterwarnings('ignore')\n",
    "import time\n",
    "from selenium.webdriver.common.by import By"
   ]
  },
  {
   "cell_type": "code",
   "execution_count": 23,
   "id": "7f0ae43b",
   "metadata": {},
   "outputs": [],
   "source": [
    "driver=webdriver.Chrome(r\"chromedriver.exe\")"
   ]
  },
  {
   "cell_type": "code",
   "execution_count": 25,
   "id": "456c5244",
   "metadata": {},
   "outputs": [],
   "source": [
    "driver.get(\"https://www.theguradian.com/news/datablog/2012/aug/09/best-selling-books-all-time-fifty-shades-grey-compare\")"
   ]
  },
  {
   "cell_type": "code",
   "execution_count": 26,
   "id": "51c9ad83",
   "metadata": {},
   "outputs": [],
   "source": [
    "Bookname=[]\n",
    "Authorname=[]\n",
    "Volumessold=[]\n",
    "BookPublisher=[]\n",
    "BookGenre=[]"
   ]
  },
  {
   "cell_type": "code",
   "execution_count": 27,
   "id": "0a76f69f",
   "metadata": {},
   "outputs": [],
   "source": [
    "name_tags=driver.find_elements(By.XPATH,'//td[@class=\"left\"]')\n",
    "for i in name_tags:\n",
    "    name=i.text\n",
    "    Bookname.append(name)"
   ]
  },
  {
   "cell_type": "code",
   "execution_count": 28,
   "id": "b43518df",
   "metadata": {},
   "outputs": [],
   "source": [
    "author_tags=driver.find_elements(By.XPATH,'//td[@class=\"left\"]')\n",
    "for i in author_tags:\n",
    "    author=i.text\n",
    "    Authorname.append(author)"
   ]
  },
  {
   "cell_type": "code",
   "execution_count": 29,
   "id": "4b9deb21",
   "metadata": {},
   "outputs": [],
   "source": [
    "volume_tags=driver.find_elements(By.XPATH,'//td[@class=\"left\"]')\n",
    "for i in volume_tags:\n",
    "    volume=i.text\n",
    "    Volumessold.append(volume)"
   ]
  },
  {
   "cell_type": "code",
   "execution_count": 30,
   "id": "e38d8d7a",
   "metadata": {},
   "outputs": [],
   "source": [
    "publisher_tags=driver.find_elements(By.XPATH,'//td[@class=\"left\"]')\n",
    "for i in publisher_tags:\n",
    "    publisher=i.text\n",
    "    BookPublisher.append(publisher)"
   ]
  },
  {
   "cell_type": "code",
   "execution_count": 31,
   "id": "3364e739",
   "metadata": {},
   "outputs": [],
   "source": [
    "genre_tags=driver.find_elements(By.XPATH,'//td[@class=\"last left\"]')\n",
    "for i in genre_tags:\n",
    "    genre=i.text\n",
    "    BookGenre.append(genre)"
   ]
  },
  {
   "cell_type": "code",
   "execution_count": 32,
   "id": "8e95e9e0",
   "metadata": {},
   "outputs": [
    {
     "name": "stdout",
     "output_type": "stream",
     "text": [
      "0 0 0 0 0\n"
     ]
    }
   ],
   "source": [
    "print(len(Bookname),len(Authorname),len(Volumessold),len(BookPublisher),len(BookGenre))"
   ]
  },
  {
   "cell_type": "markdown",
   "id": "6bf72446",
   "metadata": {},
   "source": [
    "Scrape the details of trending repositories on Github.com"
   ]
  },
  {
   "cell_type": "code",
   "execution_count": 38,
   "id": "be28d3a0",
   "metadata": {},
   "outputs": [],
   "source": [
    "import selenium\n",
    "import pandas as pd\n",
    "from selenium import webdriver\n",
    "import warnings\n",
    "warnings.filterwarnings('ignore')\n",
    "import time\n",
    "from selenium.webdriver.common.by import By"
   ]
  },
  {
   "cell_type": "code",
   "execution_count": 34,
   "id": "ed696f1f",
   "metadata": {},
   "outputs": [],
   "source": [
    "driver=webdriver.Chrome(r\"chromedriver.exe\")"
   ]
  },
  {
   "cell_type": "code",
   "execution_count": 35,
   "id": "dbec6f64",
   "metadata": {},
   "outputs": [],
   "source": [
    "driver.get(\"https://github.com/\")"
   ]
  },
  {
   "cell_type": "code",
   "execution_count": 36,
   "id": "8f2555a1",
   "metadata": {},
   "outputs": [],
   "source": [
    "driver.get(\"https://github.com/trending\")"
   ]
  },
  {
   "cell_type": "code",
   "execution_count": 37,
   "id": "c217e9f3",
   "metadata": {},
   "outputs": [],
   "source": [
    "rtitle=[]\n",
    "rdescription=[]\n",
    "ccount=[]\n",
    "Languageused=[]"
   ]
  },
  {
   "cell_type": "markdown",
   "id": "a9451104",
   "metadata": {},
   "source": [
    "title_tags=driver.find_elements(By.XPATH,'//span[@class=\"text-normal\"]') for i in title_tags: title=i.text rtitle.append(title)"
   ]
  },
  {
   "cell_type": "code",
   "execution_count": 39,
   "id": "d0e823a7",
   "metadata": {},
   "outputs": [],
   "source": [
    "desc_tags=driver.find_elements(By.XPATH,'//p[@class=\"col-9 color-fg-muted my-1 pr-4\"]')\n",
    "for i in desc_tags:\n",
    "    descrip=i.text\n",
    "    rdescription.append(descrip)"
   ]
  },
  {
   "cell_type": "code",
   "execution_count": 40,
   "id": "e177aea8",
   "metadata": {},
   "outputs": [],
   "source": [
    "cont_tags=driver.find_elements(By.XPATH,'//a[@class=\"Link--muted d-inline-block mr-3\"]')\n",
    "for i in cont_tags:\n",
    "    count=i.text\n",
    "    ccount.append(count)"
   ]
  },
  {
   "cell_type": "code",
   "execution_count": 41,
   "id": "f7211cd9",
   "metadata": {},
   "outputs": [],
   "source": [
    "lang_tags=driver.find_elements(By.XPATH,'//span[@class=\"d-inline-block ml-0 mr-3\"]')\n",
    "for i in lang_tags:\n",
    "    language=i.text\n",
    "    Languageused.append(language)"
   ]
  },
  {
   "cell_type": "code",
   "execution_count": 42,
   "id": "7787175c",
   "metadata": {},
   "outputs": [
    {
     "name": "stdout",
     "output_type": "stream",
     "text": [
      "0 24 50 20\n"
     ]
    }
   ],
   "source": [
    "print(len(rtitle),len(rdescription),len(ccount),len(Languageused))"
   ]
  },
  {
   "cell_type": "markdown",
   "id": "fed9c617",
   "metadata": {},
   "source": [
    "Scrape the details of top 100 songs on billiboard.com"
   ]
  },
  {
   "cell_type": "code",
   "execution_count": 43,
   "id": "dacefdab",
   "metadata": {},
   "outputs": [],
   "source": [
    "import selenium\n",
    "import pandas as pd\n",
    "from selenium import webdriver\n",
    "import warnings\n",
    "warnings.filterwarnings('ignore')\n",
    "import time\n",
    "from selenium.webdriver.common.by import By"
   ]
  },
  {
   "cell_type": "code",
   "execution_count": 44,
   "id": "ea273582",
   "metadata": {},
   "outputs": [],
   "source": [
    "driver=webdriver.Chrome(r\"chromedriver.exe\")"
   ]
  },
  {
   "cell_type": "code",
   "execution_count": 45,
   "id": "bb552e99",
   "metadata": {},
   "outputs": [],
   "source": [
    "driver.get(\"https:/www.billboard.com/\")"
   ]
  },
  {
   "cell_type": "code",
   "execution_count": 46,
   "id": "f30984c2",
   "metadata": {},
   "outputs": [],
   "source": [
    "driver.get(\"https://www.billboard.com/charts\")"
   ]
  },
  {
   "cell_type": "code",
   "execution_count": 47,
   "id": "e8a329bb",
   "metadata": {},
   "outputs": [],
   "source": [
    "driver.get(\"https://www.billboard.com/charts/hot-100\")"
   ]
  },
  {
   "cell_type": "code",
   "execution_count": 48,
   "id": "08579cf2",
   "metadata": {},
   "outputs": [],
   "source": [
    "Artname=[]\n",
    "weekrank=[]\n",
    "Peakrank=[]\n",
    "Weeks=[]"
   ]
  },
  {
   "cell_type": "code",
   "execution_count": 49,
   "id": "f1f86146",
   "metadata": {},
   "outputs": [],
   "source": [
    "name_tags=driver.find_elements(By.XPATH,'//span[@class=\"c-label  a-no-trucate a-font-primary-s lrv-u-font-size-14@mobile-max u-line-height-normal@mobile-max u-letter-spacing-0021 lrv-u-display-block a-truncate-ellipsis-2line u-max-width-330 u-max-width-230@tablet-only u-font-size-20@tablet\"]')\n",
    "for i in name_tags:\n",
    "    aname=i.text\n",
    "    Artname.append(aname)"
   ]
  },
  {
   "cell_type": "code",
   "execution_count": 50,
   "id": "10c2eba2",
   "metadata": {},
   "outputs": [],
   "source": [
    "wrank_tags=driver.find_elements(By.XPATH,'//span[@class=\"c-label  a-font-primary-bold-l a-font-primary-m@mobile-max u-font-weight-normal@mobile-max lrv-u-padding-tb-050@mobile-max u-font-size-32@tablet\"]')\n",
    "for i in wrank_tags:\n",
    "    weera=i.text\n",
    "    weekrank.append(weera)"
   ]
  },
  {
   "cell_type": "code",
   "execution_count": 51,
   "id": "ae3b3fad",
   "metadata": {},
   "outputs": [],
   "source": [
    "prank_tags=driver.find_elements(By.XPATH,'//span[@class=\"c-label  a-font-primary-bold-l a-font-primary-m@mobile-max u-font-weight-normal@mobile-max lrv-u-padding-tb-050@mobile-max u-font-size-32@tablet\"]')\n",
    "for i in prank_tags:\n",
    "    pera=i.text\n",
    "    Peakrank.append(pera)"
   ]
  },
  {
   "cell_type": "code",
   "execution_count": 52,
   "id": "a356332a",
   "metadata": {},
   "outputs": [],
   "source": [
    "wk_tags=driver.find_elements(By.XPATH,'//span[@class=\"c-label  a-font-primary-bold-l a-font-primary-m@mobile-max u-font-weight-normal@mobile-max lrv-u-padding-tb-050@mobile-max u-font-size-32@tablet\"]')\n",
    "for i in wk_tags:\n",
    "    week=i.text\n",
    "    Weeks.append(week)"
   ]
  },
  {
   "cell_type": "code",
   "execution_count": 53,
   "id": "e8a091a8",
   "metadata": {},
   "outputs": [
    {
     "name": "stdout",
     "output_type": "stream",
     "text": [
      "1 6 6 6\n"
     ]
    }
   ],
   "source": [
    "print(len(Artname),len(weekrank),len(Peakrank),len(Weeks))"
   ]
  },
  {
   "cell_type": "markdown",
   "id": "a3ed761a",
   "metadata": {},
   "source": [
    "Scrape the details most watched tv series of all time from imdb.com"
   ]
  },
  {
   "cell_type": "code",
   "execution_count": 54,
   "id": "da9dc434",
   "metadata": {},
   "outputs": [],
   "source": [
    "import selenium\n",
    "import pandas as pd\n",
    "from selenium import webdriver\n",
    "import warnings\n",
    "warnings.filterwarnings('ignore')\n",
    "import time\n",
    "from selenium.webdriver.common.by import By"
   ]
  },
  {
   "cell_type": "code",
   "execution_count": 55,
   "id": "2140d921",
   "metadata": {},
   "outputs": [],
   "source": [
    "driver=webdriver.Chrome(r\"chromedriver.exe\")\n"
   ]
  },
  {
   "cell_type": "code",
   "execution_count": 56,
   "id": "8642f4be",
   "metadata": {},
   "outputs": [],
   "source": [
    "driver.get(\"https://www.imdb.com/list/ls095964455/\")"
   ]
  },
  {
   "cell_type": "code",
   "execution_count": 57,
   "id": "8bec9c54",
   "metadata": {},
   "outputs": [],
   "source": [
    "seriesname=[]\n",
    "Yearspan=[]\n",
    "seriesgenre=[]\n",
    "seriesruntime=[]\n",
    "seriesratings=[]\n",
    "seriesvotes=[]"
   ]
  },
  {
   "cell_type": "code",
   "execution_count": 58,
   "id": "456156fa",
   "metadata": {},
   "outputs": [],
   "source": [
    "sname_tags=driver.find_elements(By.XPATH,'//h3[@class=\"lister-item-header\"]')\n",
    "for i in sname_tags:\n",
    "    name=i.text\n",
    "    seriesname.append(name)"
   ]
  },
  {
   "cell_type": "code",
   "execution_count": 59,
   "id": "31d055ef",
   "metadata": {},
   "outputs": [],
   "source": [
    "yspan_tags=driver.find_elements(By.XPATH,'//span[@class=\"lister-item-year text-muted unbold\"]')\n",
    "for i in yspan_tags:\n",
    "    span=i.text\n",
    "    Yearspan.append(span)"
   ]
  },
  {
   "cell_type": "code",
   "execution_count": 60,
   "id": "280af33b",
   "metadata": {},
   "outputs": [],
   "source": [
    "sgenre_tags=driver.find_elements(By.XPATH,'//span[@class=\"genre\"]')\n",
    "for i in sgenre_tags:\n",
    "    genre=i.text\n",
    "    seriesgenre.append(genre)"
   ]
  },
  {
   "cell_type": "code",
   "execution_count": 61,
   "id": "efcc2eb5",
   "metadata": {},
   "outputs": [],
   "source": [
    "sgenre_tags=driver.find_elements(By.XPATH,'//span[@class=\"genre\"]')\n",
    "for i in sgenre_tags:\n",
    "    genre=i.text\n",
    "    seriesgenre.append(genre)"
   ]
  },
  {
   "cell_type": "code",
   "execution_count": 62,
   "id": "0d0315ff",
   "metadata": {},
   "outputs": [],
   "source": [
    "sruntime_tags=driver.find_elements(By.XPATH,'//span[@class=\"runtime\"]')\n",
    "for i in sruntime_tags:\n",
    "    runtime=i.text\n",
    "    seriesruntime.append(runtime)"
   ]
  },
  {
   "cell_type": "code",
   "execution_count": 63,
   "id": "cae20a07",
   "metadata": {},
   "outputs": [],
   "source": [
    "srating_tags=driver.find_elements(By.XPATH,'//span[@class=\"ipl-rating-star__rating\"]')\n",
    "for i in srating_tags:\n",
    "    ratings=i.text\n",
    "    seriesratings.append(ratings)"
   ]
  },
  {
   "cell_type": "code",
   "execution_count": 65,
   "id": "566c9005",
   "metadata": {},
   "outputs": [],
   "source": [
    "svote_tags=driver.find_elements(By.XPATH,'//p[@class=\"text-muted text-small\"]')\n",
    "for i in svote_tags:\n",
    "    votes=i.text\n",
    "    seriesvotes.append(votes)"
   ]
  },
  {
   "cell_type": "code",
   "execution_count": 66,
   "id": "335010ca",
   "metadata": {},
   "outputs": [
    {
     "name": "stdout",
     "output_type": "stream",
     "text": [
      "100 100 200 100 2300 600\n"
     ]
    }
   ],
   "source": [
    "print(len(seriesname),len(Yearspan),len(seriesgenre),len(seriesruntime),len(seriesratings),len(seriesvotes))"
   ]
  },
  {
   "cell_type": "markdown",
   "id": "adc7bab1",
   "metadata": {},
   "source": [
    "Details of Datasets from UCI machine learning repositories"
   ]
  },
  {
   "cell_type": "code",
   "execution_count": 67,
   "id": "636151d0",
   "metadata": {},
   "outputs": [],
   "source": [
    "import selenium\n",
    "import pandas as pd\n",
    "from selenium import webdriver\n",
    "import warnings\n",
    "warnings.filterwarnings('ignore')\n",
    "import time\n",
    "from selenium.webdriver.common.by import By"
   ]
  },
  {
   "cell_type": "code",
   "execution_count": 68,
   "id": "f49c0e1f",
   "metadata": {},
   "outputs": [],
   "source": [
    "driver=webdriver.Chrome(r\"chromedriver.exe\")"
   ]
  },
  {
   "cell_type": "code",
   "execution_count": 69,
   "id": "3308575c",
   "metadata": {},
   "outputs": [],
   "source": [
    "driver.get(\"https://archive.ics.uci.edu/\")\n"
   ]
  },
  {
   "cell_type": "code",
   "execution_count": 70,
   "id": "231bf7f9",
   "metadata": {},
   "outputs": [],
   "source": [
    "driver.get(\"https://archive.ics.uci.edu/ml/datasets.php\")"
   ]
  },
  {
   "cell_type": "code",
   "execution_count": 71,
   "id": "c6215bc9",
   "metadata": {},
   "outputs": [],
   "source": [
    "Datasetname=[]\n",
    "Datatype=[]\n",
    "Datatask=[]\n",
    "Attributetype=[]\n",
    "Noofinstances=[]\n",
    "Noofattribute=[]\n",
    "Datayear=[]"
   ]
  },
  {
   "cell_type": "code",
   "execution_count": 73,
   "id": "c5b0a98f",
   "metadata": {},
   "outputs": [],
   "source": [
    "dataset_tags=driver.find_elements(By.XPATH,'//p[@class=\"normal\"]')\n",
    "for i in dataset_tags:\n",
    "    name=i.text\n",
    "    Datasetname.append(name)"
   ]
  },
  {
   "cell_type": "code",
   "execution_count": 74,
   "id": "4d09b72a",
   "metadata": {},
   "outputs": [],
   "source": [
    "dtype_tags=driver.find_elements(By.XPATH,'//p[@class=\"normal\"]')\n",
    "for i in dtype_tags:\n",
    "    data=i.text\n",
    "    Datatype.append(data)"
   ]
  },
  {
   "cell_type": "code",
   "execution_count": 75,
   "id": "33556a6a",
   "metadata": {},
   "outputs": [],
   "source": [
    "dtask_tags=driver.find_elements(By.XPATH,'//p[@class=\"normal\"]')\n",
    "for i in dtask_tags:\n",
    "    task=i.text\n",
    "    Datatask.append(task)"
   ]
  },
  {
   "cell_type": "code",
   "execution_count": 76,
   "id": "76ec3b17",
   "metadata": {},
   "outputs": [],
   "source": [
    "atype_tags=driver.find_elements(By.XPATH,'//p[@class=\"normal\"]')\n",
    "for i in atype_tags:\n",
    "    attr=i.text\n",
    "    Attributetype.append(attr)"
   ]
  },
  {
   "cell_type": "code",
   "execution_count": 77,
   "id": "e58dbd95",
   "metadata": {},
   "outputs": [],
   "source": [
    "noattr_tags=driver.find_elements(By.XPATH,'//p[@class=\"normal\"]')\n",
    "for i in noattr_tags:\n",
    "    noa=i.text\n",
    "    Noofattribute.append(noa)"
   ]
  },
  {
   "cell_type": "code",
   "execution_count": 78,
   "id": "f656ee94",
   "metadata": {},
   "outputs": [],
   "source": [
    "dyear_tags=driver.find_elements(By.XPATH,'//p[@class=\"normal\"]')\n",
    "for i in dyear_tags:\n",
    "    year=i.text\n",
    "    Datayear.append(year)"
   ]
  },
  {
   "cell_type": "code",
   "execution_count": 80,
   "id": "662e10ec",
   "metadata": {},
   "outputs": [
    {
     "name": "stdout",
     "output_type": "stream",
     "text": [
      "8728 4364 4364 4364 0 4364 4364\n"
     ]
    }
   ],
   "source": [
    "print(len(Datasetname),len(Datatype),len(Datatask),len(Attributetype),len(Noofinstances),len(Noofattribute),len(Datayear))"
   ]
  },
  {
   "cell_type": "code",
   "execution_count": 84,
   "id": "a2ed416b",
   "metadata": {},
   "outputs": [
    {
     "ename": "ValueError",
     "evalue": "All arrays must be of the same length",
     "output_type": "error",
     "traceback": [
      "\u001b[1;31m---------------------------------------------------------------------------\u001b[0m",
      "\u001b[1;31mValueError\u001b[0m                                Traceback (most recent call last)",
      "\u001b[1;32m~\\AppData\\Local\\Temp/ipykernel_23904/704450734.py\u001b[0m in \u001b[0;36m<module>\u001b[1;34m\u001b[0m\n\u001b[1;32m----> 1\u001b[1;33m \u001b[0mdf\u001b[0m\u001b[1;33m=\u001b[0m\u001b[0mpd\u001b[0m\u001b[1;33m.\u001b[0m\u001b[0mDataFrame\u001b[0m\u001b[1;33m(\u001b[0m\u001b[1;33m{\u001b[0m\u001b[1;34m'Name'\u001b[0m\u001b[1;33m:\u001b[0m\u001b[0mDatasetname\u001b[0m\u001b[1;33m,\u001b[0m\u001b[1;34m'Type'\u001b[0m\u001b[1;33m:\u001b[0m\u001b[0mDatatype\u001b[0m\u001b[1;33m,\u001b[0m\u001b[1;34m'Task'\u001b[0m\u001b[1;33m:\u001b[0m\u001b[0mDatatask\u001b[0m\u001b[1;33m,\u001b[0m\u001b[1;34m'Attri_type'\u001b[0m\u001b[1;33m:\u001b[0m\u001b[0mAttributetype\u001b[0m\u001b[1;33m,\u001b[0m\u001b[1;34m'#instances'\u001b[0m\u001b[1;33m:\u001b[0m\u001b[0mNoofinstances\u001b[0m\u001b[1;33m,\u001b[0m\u001b[1;34m'#attribute'\u001b[0m\u001b[1;33m:\u001b[0m\u001b[0mNoofattribute\u001b[0m\u001b[1;33m,\u001b[0m\u001b[1;34m'Year'\u001b[0m\u001b[1;33m:\u001b[0m\u001b[0mDatayear\u001b[0m\u001b[1;33m}\u001b[0m\u001b[1;33m)\u001b[0m\u001b[1;33m\u001b[0m\u001b[1;33m\u001b[0m\u001b[0m\n\u001b[0m\u001b[0;32m      2\u001b[0m \u001b[0mdf\u001b[0m\u001b[1;33m\u001b[0m\u001b[1;33m\u001b[0m\u001b[0m\n",
      "\u001b[1;32m~\\anaconda3\\lib\\site-packages\\pandas\\core\\frame.py\u001b[0m in \u001b[0;36m__init__\u001b[1;34m(self, data, index, columns, dtype, copy)\u001b[0m\n\u001b[0;32m    612\u001b[0m         \u001b[1;32melif\u001b[0m \u001b[0misinstance\u001b[0m\u001b[1;33m(\u001b[0m\u001b[0mdata\u001b[0m\u001b[1;33m,\u001b[0m \u001b[0mdict\u001b[0m\u001b[1;33m)\u001b[0m\u001b[1;33m:\u001b[0m\u001b[1;33m\u001b[0m\u001b[1;33m\u001b[0m\u001b[0m\n\u001b[0;32m    613\u001b[0m             \u001b[1;31m# GH#38939 de facto copy defaults to False only in non-dict cases\u001b[0m\u001b[1;33m\u001b[0m\u001b[1;33m\u001b[0m\u001b[0m\n\u001b[1;32m--> 614\u001b[1;33m             \u001b[0mmgr\u001b[0m \u001b[1;33m=\u001b[0m \u001b[0mdict_to_mgr\u001b[0m\u001b[1;33m(\u001b[0m\u001b[0mdata\u001b[0m\u001b[1;33m,\u001b[0m \u001b[0mindex\u001b[0m\u001b[1;33m,\u001b[0m \u001b[0mcolumns\u001b[0m\u001b[1;33m,\u001b[0m \u001b[0mdtype\u001b[0m\u001b[1;33m=\u001b[0m\u001b[0mdtype\u001b[0m\u001b[1;33m,\u001b[0m \u001b[0mcopy\u001b[0m\u001b[1;33m=\u001b[0m\u001b[0mcopy\u001b[0m\u001b[1;33m,\u001b[0m \u001b[0mtyp\u001b[0m\u001b[1;33m=\u001b[0m\u001b[0mmanager\u001b[0m\u001b[1;33m)\u001b[0m\u001b[1;33m\u001b[0m\u001b[1;33m\u001b[0m\u001b[0m\n\u001b[0m\u001b[0;32m    615\u001b[0m         \u001b[1;32melif\u001b[0m \u001b[0misinstance\u001b[0m\u001b[1;33m(\u001b[0m\u001b[0mdata\u001b[0m\u001b[1;33m,\u001b[0m \u001b[0mma\u001b[0m\u001b[1;33m.\u001b[0m\u001b[0mMaskedArray\u001b[0m\u001b[1;33m)\u001b[0m\u001b[1;33m:\u001b[0m\u001b[1;33m\u001b[0m\u001b[1;33m\u001b[0m\u001b[0m\n\u001b[0;32m    616\u001b[0m             \u001b[1;32mimport\u001b[0m \u001b[0mnumpy\u001b[0m\u001b[1;33m.\u001b[0m\u001b[0mma\u001b[0m\u001b[1;33m.\u001b[0m\u001b[0mmrecords\u001b[0m \u001b[1;32mas\u001b[0m \u001b[0mmrecords\u001b[0m\u001b[1;33m\u001b[0m\u001b[1;33m\u001b[0m\u001b[0m\n",
      "\u001b[1;32m~\\anaconda3\\lib\\site-packages\\pandas\\core\\internals\\construction.py\u001b[0m in \u001b[0;36mdict_to_mgr\u001b[1;34m(data, index, columns, dtype, typ, copy)\u001b[0m\n\u001b[0;32m    462\u001b[0m         \u001b[1;31m# TODO: can we get rid of the dt64tz special case above?\u001b[0m\u001b[1;33m\u001b[0m\u001b[1;33m\u001b[0m\u001b[0m\n\u001b[0;32m    463\u001b[0m \u001b[1;33m\u001b[0m\u001b[0m\n\u001b[1;32m--> 464\u001b[1;33m     return arrays_to_mgr(\n\u001b[0m\u001b[0;32m    465\u001b[0m         \u001b[0marrays\u001b[0m\u001b[1;33m,\u001b[0m \u001b[0mdata_names\u001b[0m\u001b[1;33m,\u001b[0m \u001b[0mindex\u001b[0m\u001b[1;33m,\u001b[0m \u001b[0mcolumns\u001b[0m\u001b[1;33m,\u001b[0m \u001b[0mdtype\u001b[0m\u001b[1;33m=\u001b[0m\u001b[0mdtype\u001b[0m\u001b[1;33m,\u001b[0m \u001b[0mtyp\u001b[0m\u001b[1;33m=\u001b[0m\u001b[0mtyp\u001b[0m\u001b[1;33m,\u001b[0m \u001b[0mconsolidate\u001b[0m\u001b[1;33m=\u001b[0m\u001b[0mcopy\u001b[0m\u001b[1;33m\u001b[0m\u001b[1;33m\u001b[0m\u001b[0m\n\u001b[0;32m    466\u001b[0m     )\n",
      "\u001b[1;32m~\\anaconda3\\lib\\site-packages\\pandas\\core\\internals\\construction.py\u001b[0m in \u001b[0;36marrays_to_mgr\u001b[1;34m(arrays, arr_names, index, columns, dtype, verify_integrity, typ, consolidate)\u001b[0m\n\u001b[0;32m    117\u001b[0m         \u001b[1;31m# figure out the index, if necessary\u001b[0m\u001b[1;33m\u001b[0m\u001b[1;33m\u001b[0m\u001b[0m\n\u001b[0;32m    118\u001b[0m         \u001b[1;32mif\u001b[0m \u001b[0mindex\u001b[0m \u001b[1;32mis\u001b[0m \u001b[1;32mNone\u001b[0m\u001b[1;33m:\u001b[0m\u001b[1;33m\u001b[0m\u001b[1;33m\u001b[0m\u001b[0m\n\u001b[1;32m--> 119\u001b[1;33m             \u001b[0mindex\u001b[0m \u001b[1;33m=\u001b[0m \u001b[0m_extract_index\u001b[0m\u001b[1;33m(\u001b[0m\u001b[0marrays\u001b[0m\u001b[1;33m)\u001b[0m\u001b[1;33m\u001b[0m\u001b[1;33m\u001b[0m\u001b[0m\n\u001b[0m\u001b[0;32m    120\u001b[0m         \u001b[1;32melse\u001b[0m\u001b[1;33m:\u001b[0m\u001b[1;33m\u001b[0m\u001b[1;33m\u001b[0m\u001b[0m\n\u001b[0;32m    121\u001b[0m             \u001b[0mindex\u001b[0m \u001b[1;33m=\u001b[0m \u001b[0mensure_index\u001b[0m\u001b[1;33m(\u001b[0m\u001b[0mindex\u001b[0m\u001b[1;33m)\u001b[0m\u001b[1;33m\u001b[0m\u001b[1;33m\u001b[0m\u001b[0m\n",
      "\u001b[1;32m~\\anaconda3\\lib\\site-packages\\pandas\\core\\internals\\construction.py\u001b[0m in \u001b[0;36m_extract_index\u001b[1;34m(data)\u001b[0m\n\u001b[0;32m    633\u001b[0m             \u001b[0mlengths\u001b[0m \u001b[1;33m=\u001b[0m \u001b[0mlist\u001b[0m\u001b[1;33m(\u001b[0m\u001b[0mset\u001b[0m\u001b[1;33m(\u001b[0m\u001b[0mraw_lengths\u001b[0m\u001b[1;33m)\u001b[0m\u001b[1;33m)\u001b[0m\u001b[1;33m\u001b[0m\u001b[1;33m\u001b[0m\u001b[0m\n\u001b[0;32m    634\u001b[0m             \u001b[1;32mif\u001b[0m \u001b[0mlen\u001b[0m\u001b[1;33m(\u001b[0m\u001b[0mlengths\u001b[0m\u001b[1;33m)\u001b[0m \u001b[1;33m>\u001b[0m \u001b[1;36m1\u001b[0m\u001b[1;33m:\u001b[0m\u001b[1;33m\u001b[0m\u001b[1;33m\u001b[0m\u001b[0m\n\u001b[1;32m--> 635\u001b[1;33m                 \u001b[1;32mraise\u001b[0m \u001b[0mValueError\u001b[0m\u001b[1;33m(\u001b[0m\u001b[1;34m\"All arrays must be of the same length\"\u001b[0m\u001b[1;33m)\u001b[0m\u001b[1;33m\u001b[0m\u001b[1;33m\u001b[0m\u001b[0m\n\u001b[0m\u001b[0;32m    636\u001b[0m \u001b[1;33m\u001b[0m\u001b[0m\n\u001b[0;32m    637\u001b[0m             \u001b[1;32mif\u001b[0m \u001b[0mhave_dicts\u001b[0m\u001b[1;33m:\u001b[0m\u001b[1;33m\u001b[0m\u001b[1;33m\u001b[0m\u001b[0m\n",
      "\u001b[1;31mValueError\u001b[0m: All arrays must be of the same length"
     ]
    }
   ],
   "source": [
    "df=pd.DataFrame({'Name':Datasetname,'Type':Datatype,'Task':Datatask,'Attri_type':Attributetype,'#instances':Noofinstances,'#attribute':Noofattribute,'Year':Datayear})\n",
    "df"
   ]
  },
  {
   "cell_type": "code",
   "execution_count": null,
   "id": "3e4e9459",
   "metadata": {},
   "outputs": [],
   "source": []
  }
 ],
 "metadata": {
  "kernelspec": {
   "display_name": "Python 3 (ipykernel)",
   "language": "python",
   "name": "python3"
  },
  "language_info": {
   "codemirror_mode": {
    "name": "ipython",
    "version": 3
   },
   "file_extension": ".py",
   "mimetype": "text/x-python",
   "name": "python",
   "nbconvert_exporter": "python",
   "pygments_lexer": "ipython3",
   "version": "3.9.7"
  }
 },
 "nbformat": 4,
 "nbformat_minor": 5
}
